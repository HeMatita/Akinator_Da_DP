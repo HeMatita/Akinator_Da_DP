{
 "cells": [
  {
   "cell_type": "code",
   "execution_count": null,
   "metadata": {
    "collapsed": false
   },
   "outputs": [],
   "source": [
    "import pandas as pd\n",
    "import numpy as np\n",
    "from scipy import stats\n",
    "import matplotlib.pyplot as plt \n",
    "import random\n",
    "from random import randint"
   ]
  },
  {
   "cell_type": "code",
   "execution_count": null,
   "metadata": {
    "collapsed": false
   },
   "outputs": [],
   "source": [
    "xl = pd.ExcelFile(\"EP3_dados.xlsx\")\n",
    "xl.sheet_names\n",
    "['Planilha1']\n",
    "df = xl.parse()\n",
    "df"
   ]
  },
  {
   "cell_type": "code",
   "execution_count": null,
   "metadata": {
    "collapsed": false
   },
   "outputs": [],
   "source": [
    "dic_salas = {1 : \"A\", 2 : \"B\", 3 : \"C\"}\n",
    "dic_engenharias = {1 : \"Mecânica\", 2 : \"Mecatrônica\", 3 : \"de Computação\"}\n",
    "dic_times = {1 : \"o Santos\", 2 : \"o Corinthians\", 3 : \"o Palmeiras\", 4 : \"o São Paulo\", 5 : \"o Flamengo\", 6 : \"time nenhum\"}\n",
    "dic_idade = {1 : 17, 2 : 18, 3 : 19, 4 : 20, 5 : 21, 6 : 23, 7 : 43}\n",
    "dic_olhos = {1 : \"verde\", 2 : \"azul\", 3 : \"castanho\"}\n",
    "dic_cabelo = {1 : \"castanho\", 2 : \"preto\", 3 : \"loiro\"}\n",
    "dic_musica = {1 : \"Pop\", 2 : \"Rock\", 3 : \"Rap\", 4 : \"Gospel\", 5 : \"Metal\", 6 : \"Sertanejo\", 7 : \"Funk\", 8 : \"Eletro\", 9 : \"Samba\", 10 : \"Tecno\"}\n",
    "dic_cor = {1 : \"roxo\", 2 : \"azul\", 3 : \"verde\", 4 : \"vermelho\", 5 : \"cinza\", 6 : \"preto\"}\n",
    "perguntas = {1 : \"Essa pessoa é da sala {} ?\".format(dic_salas[randint(1,3)]), \n",
    "             2 : \"Essa pessoa é de Engenharia {} ?\".format(dic_engenharias[randint(1,3)]),\n",
    "             3 : \"Essa pessoa torce para {} ?\".format(dic_times[randint(1,6)]),\n",
    "             4 : \"Essa pessoa têm {} anos?\".format(dic_idade[randint(1,7)]),\n",
    "             5 : \"Essa pessoa usa óculos ?\",\n",
    "             6 : \"Essa pessoa nasceu na cidade de SP ?\",\n",
    "             7 : \"Essa pessoa faz academia ?\",\n",
    "             8 : \"Essa pessoa dirige ?\",\n",
    "             9 : \"Qual tipo de celular que ela prefere ?\",\n",
    "             10 : \"Essa pessoa namora ?\",\n",
    "             11 : \"Essa pessoa já viajou para fora do Brasil ?\",\n",
    "             12 : \"Essa pessoa têm os olhos de cor {} ?\".format(dic_olhos[randint(1,3)]),\n",
    "             13 : \"O cabelo dessa pessoa é {} ?\".format(dic_cabelo[randint(1,3)]),\n",
    "             14 : \"O tipo de música favorita dessa pessoa é {} ?\".format(dic_musica[randint(1,10)]),\n",
    "             15 : \"Onde que essa pessoa gostaria de morar ?\",\n",
    "             16 : \"Essa pessoa têm irmãos ou irmãs ?\",\n",
    "             17 : \"Essa pessoa prefere salgado ou doce ?\",\n",
    "             18 : \"A cor favorita dessa pessoa é {} ?\".format(dic_cor[randint(1,6)]),\n",
    "             19 : \"Essa pessoa prefere carro ou avião ?\",\n",
    "             20 : \"Essa pessoa prefere frio ou calor ?\",\n",
    "             21 : \"Essa pessoa gosta de esportes ?\",\n",
    "             22 : \"Essa pessoa foi para o Econo 2017 ?\",\n",
    "             23 : \"Essa pessoa já trabalhou ?\",\n",
    "             24 : \"Essa pessoa prefere chá ou café ?\",\n",
    "             25 : \"Essa pessoa prefere filmes ou séries ?\",\n",
    "             26 : \"Essa pessoa já viu neve ?\"}"
   ]
  },
  {
   "cell_type": "code",
   "execution_count": null,
   "metadata": {
    "collapsed": false
   },
   "outputs": [],
   "source": [
    "perguntas[4].split()[-2]"
   ]
  },
  {
   "cell_type": "code",
   "execution_count": null,
   "metadata": {
    "collapsed": false
   },
   "outputs": [],
   "source": [
    "respostas = {1 : \"1 - Sim\\n2 - Não\\n3 - Não sei\",\n",
    "            2 : \"1 - Sim\\n2 - Não\\n3 - Não sei\",\n",
    "            3 : \"1 - Sim\\n2 - Não\\n3 - Não sei\",\n",
    "            4 : \"1 - Sim\\n2 - Não\\n3 - Não sei\",\n",
    "            5 : \"1 - Sim\\n2 - Não\\n3 - Não sei\",\n",
    "            6 : \"1 - Sim\\n2 - Não\\n3 - Não sei\",\n",
    "            7 : \"1 - Sim\\n2 - Não\\n3 - Não sei\",\n",
    "            8 : \"1 - Sim\\n2 - Não\\n3 - Não sei\",\n",
    "            9 : \"1 - Android\\n2 - iPhone\\n3 - Não sei\",\n",
    "            10 : \"1 - Sim\\n2 - Não\\n3 - Não sei\",\n",
    "            11 : \"1 - Sim\\n2 - Não\\n3 - Não sei\",\n",
    "            12 : \"1 - Sim\\n2 - Não\\n3 - Não sei\",\n",
    "            13 : \"1 - Sim\\n2 - Não\\n3 - Não sei\",\n",
    "            14 : \"1 - Sim\\n2 - Não\\n3 - Não sei\",\n",
    "            15 : \"1 - Casa\\n2 - Apartamento\\n3 - Não sei\",\n",
    "            16 : \"1 - Sim\\n2 - Não\\n3 - Não sei\",\n",
    "            17 : \"1 - Salgado\\n2 - Doce\\n3 - Não sei\",\n",
    "            18 : \"1 - Sim\\n2 - Não\\n3 - Não sei\",\n",
    "            19 : \"1 - Carro\\n2 - Avião\\n3 - Não sei\",\n",
    "            20 : \"1 - Frio\\n2 - Calor\\n3 - Não sei\",\n",
    "            21 : \"1 - Sim\\n2 - Não\\n3 - Não sei\",\n",
    "            22 : \"1 - Sim\\n2 - Não\\n3 - Não sei\",\n",
    "            23 : \"1 - Sim\\n2 - Não\\n3 - Não sei\",\n",
    "            24 : \"1 - Chá\\n2 - Café\\n3 - Não sei\",\n",
    "            25 : \"1 - Filmes\\n2 - Séries\\n3 - Não sei\",\n",
    "            26 : \"1 - Sim\\n2 - Não\\n3 - Não sei\"}"
   ]
  },
  {
   "cell_type": "code",
   "execution_count": null,
   "metadata": {
    "collapsed": false
   },
   "outputs": [],
   "source": [
    "p = random.sample(range(1,27), 26)\n",
    "print(p)"
   ]
  },
  {
   "cell_type": "code",
   "execution_count": 16,
   "metadata": {
    "collapsed": false
   },
   "outputs": [
    {
     "name": "stdout",
     "output_type": "stream",
     "text": [
      "19\n",
      "12\n",
      "2\n",
      "3\n",
      "24\n",
      "7\n",
      "16\n",
      "8\n",
      "22\n",
      "15\n",
      "9\n",
      "14\n",
      "11\n",
      "5\n",
      "25\n",
      "1\n",
      "26\n",
      "17\n",
      "4\n",
      "6\n",
      "18\n",
      "13\n",
      "23\n",
      "21\n",
      "10\n"
     ]
    }
   ],
   "source": [
    "for i in range(len(p)):\n",
    "    if i > 0:\n",
    "        print(p[i-1])\n",
    "    #df[(df.iloc[:, p[i]+1] == perguntas[p[i]].split()[-2])]"
   ]
  },
  {
   "cell_type": "code",
   "execution_count": null,
   "metadata": {
    "collapsed": false
   },
   "outputs": [
    {
     "name": "stdout",
     "output_type": "stream",
     "text": [
      "Ela prefere carro ou avião ?\n",
      "1 - Carro\n",
      "2 - Avião\n",
      "3 - Não sei\n",
      "None1\n",
      "1\n",
      "19\n",
      "Essa pessoa têm os olhos de cor castanho ?\n",
      "1 - Sim\n",
      "2 - Não\n",
      "3 - Não sei\n",
      "None3\n",
      "3\n",
      "Essa pessoa é de Engenharia de Computação ?\n",
      "1 - Sim\n",
      "2 - Não\n",
      "3 - Não sei\n",
      "None2\n",
      "2\n",
      "13\n",
      "Essa pessoa torce para o Flamengo ?\n",
      "1 - Sim\n",
      "2 - Não\n",
      "3 - Não sei\n",
      "None2\n",
      "2\n",
      "12\n",
      "Ela prefere chá ou café ?\n",
      "1 - Chá\n",
      "2 - Café\n",
      "3 - Não sei\n",
      "None3\n",
      "3\n",
      "Ela faz academia ?\n",
      "1 - Sim\n",
      "2 - Não\n",
      "3 - Não sei\n",
      "None1\n",
      "1\n",
      "8\n",
      "Ela têm irmãos ou irmãs ?\n",
      "1 - Sim\n",
      "2 - Não\n",
      "3 - Não sei\n",
      "None1\n",
      "1\n",
      "8\n",
      "Ela dirige ?\n",
      "1 - Sim\n",
      "2 - Não\n",
      "3 - Não sei\n",
      "None1\n",
      "1\n",
      "6\n",
      "Ela foi para o Econo 2017 ?\n",
      "1 - Sim\n",
      "2 - Não\n",
      "3 - Não sei\n",
      "None2\n",
      "2\n",
      "5\n",
      "Onde ela gostaria de morar ?\n",
      "1 - Casa\n",
      "2 - Apartamento\n",
      "3 - Não sei\n",
      "None3\n",
      "3\n",
      "Qual tipo de celular ela prefere ?\n",
      "1 - Android\n",
      "2 - iPhone\n",
      "3 - Não sei\n"
     ]
    }
   ],
   "source": [
    "for i in range(len(p)):\n",
    "    print(perguntas[p[i]])\n",
    "    x = int(input((respostas[p[i]])))\n",
    "    if p[i] == 1 or p[i] == 2 or p[i] == 3 or p[i] == 12 or p[i] == 13 or p[i] == 14 or p[i] == 18:\n",
    "        if x == 1:\n",
    "            df = df[(df.iloc[:, p[i]-1] == perguntas[p[i]].split()[-2])]\n",
    "            print(len(df))\n",
    "        if x == 2:\n",
    "            df = df[(df.iloc[:, p[i]-1] != perguntas[p[i]].split()[-2])]\n",
    "            print(len(df))\n",
    "    if p[i] == 4:\n",
    "        if x == 1:\n",
    "            df = df[(df.iloc[:, p[i]-1] == int(perguntas[p[i]].split()[-2]))]\n",
    "        if x == 2:\n",
    "            df = df[(df.iloc[:, p[i]-1] != int(perguntas[p[i]].split()[-2]))]\n",
    "    if p[i] == 5 or p[i] == 6 or p[i] == 7 or p[i] == 8 or p[i] == 10 or p[i] == 11 or p[i] == 16 or p[i] == 21 or p[i] == 22 or p[i] == 23 or p[i] == 26:\n",
    "        if x == 1:\n",
    "            df = df[(df.iloc[:, p[i]-1] == \"Sim\")]\n",
    "            print(len(df))\n",
    "        if x == 2:\n",
    "            df = df[(df.iloc[:, p[i]-1] == \"Não\")]\n",
    "            print(len(df))\n",
    "    if p[i] == 9:\n",
    "        if x == 1:\n",
    "            df = df[(df.iloc[:, p[i]-1] == \"Android\")]\n",
    "            print(len(df))\n",
    "        if x == 2:\n",
    "            df = df[(df.iloc[:, p[i]-1] == \"iPhone\")]\n",
    "            print(len(df))\n",
    "    if p[i] == 15:\n",
    "        if x == 1:\n",
    "            df = df[(df.iloc[:, p[i]-1] == \"Casa\")]\n",
    "            print(len(df))\n",
    "        if x == 2:\n",
    "            df = df[(df.iloc[:, p[i]-1] == \"Apartamento\")]\n",
    "            print(len(df))\n",
    "    if p[i] == 17:\n",
    "        if x == 1:\n",
    "            df = df[(df.iloc[:, p[i]-1] == \"Salgado\")]\n",
    "            print(len(df))\n",
    "        if x == 2:\n",
    "            df = df[(df.iloc[:, p[i]-1] == \"Doce\")]\n",
    "            print(len(df))\n",
    "    if p[i] == 19:\n",
    "        if x == 1:\n",
    "            df = df[(df.iloc[:, p[i]-1] == \"Carro\")]\n",
    "            print(len(df))\n",
    "        if x == 2:\n",
    "            df = df[(df.iloc[:, p[i]-1] == \"Avião\")]\n",
    "            print(len(df))\n",
    "    if p[i] == 20:\n",
    "        if x == 1:\n",
    "            df = df[(df.iloc[:, p[i]-1] == \"Frio\")]\n",
    "            print(len(df))\n",
    "        if x == 2:\n",
    "            df = df[(df.iloc[:, p[i]-1] == \"Calor\")]\n",
    "            print(len(df))\n",
    "    if p[i] == 24:\n",
    "        if x == 1:\n",
    "            df = df[(df.iloc[:, p[i]-1] == \"Chá\")]\n",
    "            print(len(df))\n",
    "        if x == 2:\n",
    "            df = df[(df.iloc[:, p[i]-1] == \"Café\")]\n",
    "            print(len(df))\n",
    "    if p[i] == 25:\n",
    "        if x == 1:\n",
    "            df = df[(df.iloc[:, p[i]-1] == \"Filme\")]\n",
    "            print(len(df))\n",
    "        if x == 2:\n",
    "            df = df[(df.iloc[:, p[i]-1] == \"Série\")]\n",
    "            print(len(df))\n",
    "    if len(df) == 1:\n",
    "        break\n",
    "    if x == 3:\n",
    "        df = df\n",
    "    if x == 4:\n",
    "        break\n",
    "print(\"A pessoa que você está pensando deve ser o {}!!\".format(list(df.index)[0]))"
   ]
  },
  {
   "cell_type": "code",
   "execution_count": null,
   "metadata": {
    "collapsed": false
   },
   "outputs": [],
   "source": [
    "df[(df.iloc[:, p[12]-1] == perguntas[p[12]].split()[-2])]"
   ]
  },
  {
   "cell_type": "code",
   "execution_count": 9,
   "metadata": {
    "collapsed": false
   },
   "outputs": [
    {
     "name": "stdout",
     "output_type": "stream",
     "text": [
      "Olá, e bem vindo(a) ao Gênio de DeSoft!!\n",
      "Peço para que pense em alguma pessoa que fez a matéria de DeSoft nesse semestre.\n",
      "Já pensou?\n",
      "Ótimo, agora vou adivinhar quem é essa pessoa que você está pensando!!\n",
      "Bom jogo!!\n"
     ]
    }
   ],
   "source": [
    "print(\"Olá, e bem vindo(a) ao Gênio de DeSoft!!\\nPeço para que pense em alguma pessoa que fez a matéria de DeSoft nesse semestre.\\nJá pensou?\\nÓtimo, agora vou adivinhar quem é essa pessoa que você está pensando!!\\nBom jogo!!\")"
   ]
  },
  {
   "cell_type": "code",
   "execution_count": 9,
   "metadata": {
    "collapsed": false
   },
   "outputs": [
    {
     "name": "stdout",
     "output_type": "stream",
     "text": [
      "A pessoa que você está pensando deve ser o Matita!!\n"
     ]
    }
   ],
   "source": [
    "print(\"A pessoa que você está pensando deve ser o {}!!\".format(list(df.index)[0]))"
   ]
  },
  {
   "cell_type": "code",
   "execution_count": null,
   "metadata": {
    "collapsed": true
   },
   "outputs": [],
   "source": [
    "l = [10, 20]\n",
    "print(l[randint(0,1)])"
   ]
  },
  {
   "cell_type": "code",
   "execution_count": null,
   "metadata": {
    "collapsed": true
   },
   "outputs": [],
   "source": []
  }
 ],
 "metadata": {
  "kernelspec": {
   "display_name": "Python 3",
   "language": "python",
   "name": "python3"
  },
  "language_info": {
   "codemirror_mode": {
    "name": "ipython",
    "version": 3
   },
   "file_extension": ".py",
   "mimetype": "text/x-python",
   "name": "python",
   "nbconvert_exporter": "python",
   "pygments_lexer": "ipython3",
   "version": "3.6.0"
  }
 },
 "nbformat": 4,
 "nbformat_minor": 2
}
